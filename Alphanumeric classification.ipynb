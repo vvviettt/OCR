{
 "cells": [
  {
   "attachments": {},
   "cell_type": "markdown",
   "id": "c3bc9631",
   "metadata": {},
   "source": [
    "#  Project to recognise handwritten Characters using CNN"
   ]
  },
  {
   "cell_type": "code",
   "execution_count": 4,
   "id": "transparent-passing",
   "metadata": {},
   "outputs": [],
   "source": [
    "import numpy as np\n",
    "import random\n",
    "import matplotlib.pyplot as plt\n",
    "import tensorflow as tf\n",
    "import cv2\n",
    "import csv\n",
    "import pandas as pd\n",
    "import os\n",
    "from tensorflow.keras.models import Sequential\n",
    "from tensorflow.keras.layers import Conv2D, MaxPooling2D, Dense, Flatten"
   ]
  },
  {
   "attachments": {},
   "cell_type": "markdown",
   "id": "radio-router",
   "metadata": {},
   "source": [
    "# Load Dataset"
   ]
  },
  {
   "cell_type": "code",
   "execution_count": 5,
   "id": "93c6cfb6",
   "metadata": {},
   "outputs": [],
   "source": [
    "img_size = 75\n",
    "def load_images(folder):\n",
    "    images = []\n",
    "    for filename in os.listdir(folder):\n",
    "        img = cv2.imread(os.path.join(folder,filename), cv2.IMREAD_GRAYSCALE)\n",
    "        if img is not None:\n",
    "            Rimg = cv2.resize(img, (img_size, img_size))\n",
    "            images.append([Rimg,filename])\n",
    "    return images"
   ]
  },
  {
   "cell_type": "code",
   "execution_count": 6,
   "id": "65c70d59",
   "metadata": {},
   "outputs": [],
   "source": [
    "labels = pd.read_csv('english.csv', index_col = None)\n",
    "\n",
    "i = 0\n",
    "while i < 3410:\n",
    "    labels[\"Image\"][i] = labels[\"Image\"][i][4:]\n",
    "    i += 1\n",
    "    \n",
    "\n",
    "label_dict = labels.set_index(\"Image\").T.to_dict()  ##contains {'image name': 'label'} as key:value pair"
   ]
  },
  {
   "cell_type": "code",
   "execution_count": 7,
   "id": "e7cc61a0",
   "metadata": {},
   "outputs": [],
   "source": [
    "input_imgs = load_images(\"Img\")      ##images are loaded as numpy array using this function call "
   ]
  },
  {
   "cell_type": "code",
   "execution_count": 8,
   "id": "5fbc4533",
   "metadata": {},
   "outputs": [
    {
     "ename": "NameError",
     "evalue": "name 'X_train' is not defined",
     "output_type": "error",
     "traceback": [
      "\u001b[0;31m---------------------------------------------------------------------------\u001b[0m",
      "\u001b[0;31mNameError\u001b[0m                                 Traceback (most recent call last)",
      "Cell \u001b[0;32mIn[8], line 1\u001b[0m\n\u001b[0;32m----> 1\u001b[0m \u001b[39mprint\u001b[39m(\u001b[39m\"\u001b[39m\u001b[39mShape of X_train: \u001b[39m\u001b[39m\"\u001b[39m, X_train\u001b[39m.\u001b[39mshape)\n\u001b[1;32m      2\u001b[0m \u001b[39mprint\u001b[39m(\u001b[39m\"\u001b[39m\u001b[39mShape of Y_train: \u001b[39m\u001b[39m\"\u001b[39m, Y_train\u001b[39m.\u001b[39mshape)\n",
      "\u001b[0;31mNameError\u001b[0m: name 'X_train' is not defined"
     ]
    }
   ],
   "source": [
    "print(\"Shape of X_train: \", X_train.shape)\n",
    "print(\"Shape of Y_train: \", Y_train.shape)"
   ]
  },
  {
   "cell_type": "code",
   "execution_count": 9,
   "id": "b84089b3",
   "metadata": {},
   "outputs": [],
   "source": [
    "data = []\n",
    "for img  in input_imgs:\n",
    "    data.append([img[0], label_dict[img[1]][\"label\"]])\n",
    "    ##keeping   [IMAGE ARRAY, IMAGE LABEL] as list in data "
   ]
  },
  {
   "attachments": {},
   "cell_type": "markdown",
   "id": "43e9aac5",
   "metadata": {},
   "source": [
    "### Forming a class dict to label all classes to a integer"
   ]
  },
  {
   "cell_type": "code",
   "execution_count": 10,
   "id": "68d38cfc",
   "metadata": {},
   "outputs": [],
   "source": [
    "class_dict = {}\n",
    "inID = 10\n",
    "for integer in range(0,10):\n",
    "    class_dict[str(integer)] = integer\n",
    "\n",
    "for char in range(65,65+26):\n",
    "    class_dict[chr(char)] = inID\n",
    "    inID += 1\n",
    "\n",
    "for char in range(97,97+26):\n",
    "    class_dict[chr(char)] = inID\n",
    "    inID += 1\n",
    "    \n",
    "# class_dict  \n"
   ]
  },
  {
   "cell_type": "code",
   "execution_count": 11,
   "id": "9750c0be",
   "metadata": {},
   "outputs": [],
   "source": [
    "X_train = []\n",
    "Y_train = []\n",
    "\n",
    "for img_array, img_label in data:\n",
    "    X_train.append(img_array)\n",
    "    Y_train.append(img_label)\n",
    "    \n",
    "X_train = np.array(X_train)  ##contains all the images as img_sizeximg_size array       ##.reshape(-1, img_size, img_size, 1)\n",
    "Y_train = np.array(Y_train)  ##contains array of all the labels -- 'a' 'b' '0' "
   ]
  },
  {
   "cell_type": "code",
   "execution_count": 12,
   "id": "8c080925",
   "metadata": {},
   "outputs": [
    {
     "name": "stdout",
     "output_type": "stream",
     "text": [
      "Shape of X_train :  (3410, 75, 75)\n",
      "Shape of Y_train:  (3410,)\n"
     ]
    }
   ],
   "source": [
    "print(\"Shape of X_train : \", X_train.shape)\n",
    "print(\"Shape of Y_train: \", Y_train.shape)"
   ]
  },
  {
   "cell_type": "code",
   "execution_count": 13,
   "id": "labeled-motivation",
   "metadata": {},
   "outputs": [],
   "source": [
    "X_train = X_train/255.0   # type: ignore ##scaling the values from 0 to 1"
   ]
  },
  {
   "cell_type": "code",
   "execution_count": 14,
   "id": "6d8cf514",
   "metadata": {},
   "outputs": [],
   "source": [
    "## this block of code CONVERTS the STRING LABELS to INT CLASSES\n",
    "l = 0\n",
    "k = []\n",
    "while l < 3410:\n",
    "    k.append(class_dict[Y_train[l]])\n",
    "    l += 1 \n",
    "Y_train = np.array(k)  ##now Y_train contains labels as ({class dict - labels} INTEGER CLASSES)"
   ]
  },
  {
   "cell_type": "code",
   "execution_count": 24,
   "id": "demanding-grocery",
   "metadata": {},
   "outputs": [
    {
     "name": "stdout",
     "output_type": "stream",
     "text": [
      "Shape of X_train:  (3410, 75, 75, 1)\n",
      "Shape of Y_train:  (3410, 1)\n",
      "[[[[1.]\n",
      "   [1.]\n",
      "   [1.]\n",
      "   ...\n",
      "   [1.]\n",
      "   [1.]\n",
      "   [1.]]\n",
      "\n",
      "  [[1.]\n",
      "   [1.]\n",
      "   [1.]\n",
      "   ...\n",
      "   [1.]\n",
      "   [1.]\n",
      "   [1.]]\n",
      "\n",
      "  [[1.]\n",
      "   [1.]\n",
      "   [1.]\n",
      "   ...\n",
      "   [1.]\n",
      "   [1.]\n",
      "   [1.]]\n",
      "\n",
      "  ...\n",
      "\n",
      "  [[1.]\n",
      "   [1.]\n",
      "   [1.]\n",
      "   ...\n",
      "   [1.]\n",
      "   [1.]\n",
      "   [1.]]\n",
      "\n",
      "  [[1.]\n",
      "   [1.]\n",
      "   [1.]\n",
      "   ...\n",
      "   [1.]\n",
      "   [1.]\n",
      "   [1.]]\n",
      "\n",
      "  [[1.]\n",
      "   [1.]\n",
      "   [1.]\n",
      "   ...\n",
      "   [1.]\n",
      "   [1.]\n",
      "   [1.]]]\n",
      "\n",
      "\n",
      " [[[1.]\n",
      "   [1.]\n",
      "   [1.]\n",
      "   ...\n",
      "   [1.]\n",
      "   [1.]\n",
      "   [1.]]\n",
      "\n",
      "  [[1.]\n",
      "   [1.]\n",
      "   [1.]\n",
      "   ...\n",
      "   [1.]\n",
      "   [1.]\n",
      "   [1.]]\n",
      "\n",
      "  [[1.]\n",
      "   [1.]\n",
      "   [1.]\n",
      "   ...\n",
      "   [1.]\n",
      "   [1.]\n",
      "   [1.]]\n",
      "\n",
      "  ...\n",
      "\n",
      "  [[1.]\n",
      "   [1.]\n",
      "   [1.]\n",
      "   ...\n",
      "   [1.]\n",
      "   [1.]\n",
      "   [1.]]\n",
      "\n",
      "  [[1.]\n",
      "   [1.]\n",
      "   [1.]\n",
      "   ...\n",
      "   [1.]\n",
      "   [1.]\n",
      "   [1.]]\n",
      "\n",
      "  [[1.]\n",
      "   [1.]\n",
      "   [1.]\n",
      "   ...\n",
      "   [1.]\n",
      "   [1.]\n",
      "   [1.]]]\n",
      "\n",
      "\n",
      " [[[1.]\n",
      "   [1.]\n",
      "   [1.]\n",
      "   ...\n",
      "   [1.]\n",
      "   [1.]\n",
      "   [1.]]\n",
      "\n",
      "  [[1.]\n",
      "   [1.]\n",
      "   [1.]\n",
      "   ...\n",
      "   [1.]\n",
      "   [1.]\n",
      "   [1.]]\n",
      "\n",
      "  [[1.]\n",
      "   [1.]\n",
      "   [1.]\n",
      "   ...\n",
      "   [1.]\n",
      "   [1.]\n",
      "   [1.]]\n",
      "\n",
      "  ...\n",
      "\n",
      "  [[1.]\n",
      "   [1.]\n",
      "   [1.]\n",
      "   ...\n",
      "   [1.]\n",
      "   [1.]\n",
      "   [1.]]\n",
      "\n",
      "  [[1.]\n",
      "   [1.]\n",
      "   [1.]\n",
      "   ...\n",
      "   [1.]\n",
      "   [1.]\n",
      "   [1.]]\n",
      "\n",
      "  [[1.]\n",
      "   [1.]\n",
      "   [1.]\n",
      "   ...\n",
      "   [1.]\n",
      "   [1.]\n",
      "   [1.]]]\n",
      "\n",
      "\n",
      " ...\n",
      "\n",
      "\n",
      " [[[1.]\n",
      "   [1.]\n",
      "   [1.]\n",
      "   ...\n",
      "   [1.]\n",
      "   [1.]\n",
      "   [1.]]\n",
      "\n",
      "  [[1.]\n",
      "   [1.]\n",
      "   [1.]\n",
      "   ...\n",
      "   [1.]\n",
      "   [1.]\n",
      "   [1.]]\n",
      "\n",
      "  [[1.]\n",
      "   [1.]\n",
      "   [1.]\n",
      "   ...\n",
      "   [1.]\n",
      "   [1.]\n",
      "   [1.]]\n",
      "\n",
      "  ...\n",
      "\n",
      "  [[1.]\n",
      "   [1.]\n",
      "   [1.]\n",
      "   ...\n",
      "   [1.]\n",
      "   [1.]\n",
      "   [1.]]\n",
      "\n",
      "  [[1.]\n",
      "   [1.]\n",
      "   [1.]\n",
      "   ...\n",
      "   [1.]\n",
      "   [1.]\n",
      "   [1.]]\n",
      "\n",
      "  [[1.]\n",
      "   [1.]\n",
      "   [1.]\n",
      "   ...\n",
      "   [1.]\n",
      "   [1.]\n",
      "   [1.]]]\n",
      "\n",
      "\n",
      " [[[1.]\n",
      "   [1.]\n",
      "   [1.]\n",
      "   ...\n",
      "   [1.]\n",
      "   [1.]\n",
      "   [1.]]\n",
      "\n",
      "  [[1.]\n",
      "   [1.]\n",
      "   [1.]\n",
      "   ...\n",
      "   [1.]\n",
      "   [1.]\n",
      "   [1.]]\n",
      "\n",
      "  [[1.]\n",
      "   [1.]\n",
      "   [1.]\n",
      "   ...\n",
      "   [1.]\n",
      "   [1.]\n",
      "   [1.]]\n",
      "\n",
      "  ...\n",
      "\n",
      "  [[1.]\n",
      "   [1.]\n",
      "   [1.]\n",
      "   ...\n",
      "   [1.]\n",
      "   [1.]\n",
      "   [1.]]\n",
      "\n",
      "  [[1.]\n",
      "   [1.]\n",
      "   [1.]\n",
      "   ...\n",
      "   [1.]\n",
      "   [1.]\n",
      "   [1.]]\n",
      "\n",
      "  [[1.]\n",
      "   [1.]\n",
      "   [1.]\n",
      "   ...\n",
      "   [1.]\n",
      "   [1.]\n",
      "   [1.]]]\n",
      "\n",
      "\n",
      " [[[1.]\n",
      "   [1.]\n",
      "   [1.]\n",
      "   ...\n",
      "   [1.]\n",
      "   [1.]\n",
      "   [1.]]\n",
      "\n",
      "  [[1.]\n",
      "   [1.]\n",
      "   [1.]\n",
      "   ...\n",
      "   [1.]\n",
      "   [1.]\n",
      "   [1.]]\n",
      "\n",
      "  [[1.]\n",
      "   [1.]\n",
      "   [1.]\n",
      "   ...\n",
      "   [1.]\n",
      "   [1.]\n",
      "   [1.]]\n",
      "\n",
      "  ...\n",
      "\n",
      "  [[1.]\n",
      "   [1.]\n",
      "   [1.]\n",
      "   ...\n",
      "   [1.]\n",
      "   [1.]\n",
      "   [1.]]\n",
      "\n",
      "  [[1.]\n",
      "   [1.]\n",
      "   [1.]\n",
      "   ...\n",
      "   [1.]\n",
      "   [1.]\n",
      "   [1.]]\n",
      "\n",
      "  [[1.]\n",
      "   [1.]\n",
      "   [1.]\n",
      "   ...\n",
      "   [1.]\n",
      "   [1.]\n",
      "   [1.]]]]\n"
     ]
    }
   ],
   "source": [
    "X_train = X_train.reshape(len(X_train), img_size, img_size, 1)\n",
    "Y_train = Y_train.reshape(len(Y_train), 1)\n",
    "\n",
    "print(\"Shape of X_train: \", X_train.shape)\n",
    "print(\"Shape of Y_train: \", Y_train.shape)"
   ]
  },
  {
   "attachments": {},
   "cell_type": "markdown",
   "id": "precise-munich",
   "metadata": {},
   "source": [
    "# tensorflow Model "
   ]
  },
  {
   "cell_type": "code",
   "execution_count": 25,
   "id": "bigger-spain",
   "metadata": {},
   "outputs": [],
   "source": [
    "model = Sequential([\n",
    "    Conv2D(16, (3,3), activation = 'relu', input_shape = (img_size, img_size, 1)),\n",
    "    MaxPooling2D((2,2)),\n",
    "    \n",
    "    Conv2D(32, (3,3), activation = 'relu'),\n",
    "    MaxPooling2D((2,2)),\n",
    "    \n",
    "    Conv2D(16, (3,3), activation = 'relu'),\n",
    "    MaxPooling2D((2,2)),\n",
    "    \n",
    "    Flatten(),\n",
    "    Dense(128, activation = 'relu'),\n",
    "    Dense(62, activation = 'softmax')\n",
    "])"
   ]
  },
  {
   "cell_type": "code",
   "execution_count": 26,
   "id": "special-prior",
   "metadata": {},
   "outputs": [
    {
     "name": "stdout",
     "output_type": "stream",
     "text": [
      "Model: \"sequential_1\"\n",
      "_________________________________________________________________\n",
      " Layer (type)                Output Shape              Param #   \n",
      "=================================================================\n",
      " conv2d_2 (Conv2D)           (None, 73, 73, 16)        160       \n",
      "                                                                 \n",
      " max_pooling2d_2 (MaxPoolin  (None, 36, 36, 16)        0         \n",
      " g2D)                                                            \n",
      "                                                                 \n",
      " conv2d_3 (Conv2D)           (None, 34, 34, 32)        4640      \n",
      "                                                                 \n",
      " max_pooling2d_3 (MaxPoolin  (None, 17, 17, 32)        0         \n",
      " g2D)                                                            \n",
      "                                                                 \n",
      " conv2d_4 (Conv2D)           (None, 15, 15, 16)        4624      \n",
      "                                                                 \n",
      " max_pooling2d_4 (MaxPoolin  (None, 7, 7, 16)          0         \n",
      " g2D)                                                            \n",
      "                                                                 \n",
      " flatten_1 (Flatten)         (None, 784)               0         \n",
      "                                                                 \n",
      " dense_2 (Dense)             (None, 128)               100480    \n",
      "                                                                 \n",
      " dense_3 (Dense)             (None, 62)                7998      \n",
      "                                                                 \n",
      "=================================================================\n",
      "Total params: 117902 (460.55 KB)\n",
      "Trainable params: 117902 (460.55 KB)\n",
      "Non-trainable params: 0 (0.00 Byte)\n",
      "_________________________________________________________________\n"
     ]
    }
   ],
   "source": [
    "model.compile(loss = 'sparse_categorical_crossentropy', optimizer = 'adam', metrics = ['accuracy'])\n",
    "model.summary()"
   ]
  },
  {
   "cell_type": "code",
   "execution_count": 27,
   "id": "wrapped-volume",
   "metadata": {},
   "outputs": [
    {
     "name": "stdout",
     "output_type": "stream",
     "text": [
      "Epoch 1/20\n",
      "54/54 [==============================] - 2s 28ms/step - loss: 4.0900 - accuracy: 0.0311\n",
      "Epoch 2/20\n",
      "54/54 [==============================] - 1s 26ms/step - loss: 3.3177 - accuracy: 0.1924\n",
      "Epoch 3/20\n",
      "54/54 [==============================] - 1s 26ms/step - loss: 2.4859 - accuracy: 0.3745\n",
      "Epoch 4/20\n",
      "54/54 [==============================] - 1s 27ms/step - loss: 1.8774 - accuracy: 0.5155\n",
      "Epoch 5/20\n",
      "54/54 [==============================] - 1s 26ms/step - loss: 1.4405 - accuracy: 0.6152\n",
      "Epoch 6/20\n",
      "54/54 [==============================] - 1s 26ms/step - loss: 1.1326 - accuracy: 0.6891\n",
      "Epoch 7/20\n",
      "54/54 [==============================] - 1s 27ms/step - loss: 0.9265 - accuracy: 0.7352\n",
      "Epoch 8/20\n",
      "54/54 [==============================] - 1s 27ms/step - loss: 0.7511 - accuracy: 0.7856\n",
      "Epoch 9/20\n",
      "54/54 [==============================] - 1s 26ms/step - loss: 0.6008 - accuracy: 0.8258\n",
      "Epoch 10/20\n",
      "54/54 [==============================] - 1s 26ms/step - loss: 0.4881 - accuracy: 0.8619\n",
      "Epoch 11/20\n",
      "54/54 [==============================] - 1s 26ms/step - loss: 0.4036 - accuracy: 0.8830\n",
      "Epoch 12/20\n",
      "54/54 [==============================] - 1s 26ms/step - loss: 0.3679 - accuracy: 0.8968\n",
      "Epoch 13/20\n",
      "54/54 [==============================] - 1s 27ms/step - loss: 0.2690 - accuracy: 0.9173\n",
      "Epoch 14/20\n",
      "54/54 [==============================] - 1s 26ms/step - loss: 0.2368 - accuracy: 0.9326\n",
      "Epoch 15/20\n",
      "54/54 [==============================] - 1s 27ms/step - loss: 0.1939 - accuracy: 0.9393\n",
      "Epoch 16/20\n",
      "54/54 [==============================] - 1s 27ms/step - loss: 0.1769 - accuracy: 0.9481\n",
      "Epoch 17/20\n",
      "54/54 [==============================] - 1s 26ms/step - loss: 0.1343 - accuracy: 0.9639\n",
      "Epoch 18/20\n",
      "54/54 [==============================] - 1s 26ms/step - loss: 0.0910 - accuracy: 0.9754\n",
      "Epoch 19/20\n",
      "54/54 [==============================] - 1s 26ms/step - loss: 0.0767 - accuracy: 0.9795\n",
      "Epoch 20/20\n",
      "54/54 [==============================] - 1s 27ms/step - loss: 0.0699 - accuracy: 0.9804\n"
     ]
    }
   ],
   "source": [
    "hist = model.fit(X_train, Y_train, epochs = 20, batch_size = 64)"
   ]
  },
  {
   "cell_type": "code",
   "execution_count": 28,
   "id": "settled-thesis",
   "metadata": {},
   "outputs": [
    {
     "data": {
      "text/plain": [
       "<matplotlib.legend.Legend at 0x168bb56d0>"
      ]
     },
     "execution_count": 28,
     "metadata": {},
     "output_type": "execute_result"
    },
    {
     "data": {
      "image/png": "[encoded data removed]",
      "text/plain": [
       "<Figure size 640x480 with 1 Axes>"
      ]
     },
     "metadata": {},
     "output_type": "display_data"
    }
   ],
   "source": [
    "# model.evaluate(X_train, Y_train)\n",
    "\n",
    "plt.plot(hist.history['loss'], color = 'red', label = 'loss')\n",
    "plt.plot(hist.history['accuracy'], color = 'green', label = 'accuracy')\n",
    "plt.legend(loc = 'upper right')\n",
    "# plt.grid(True)"
   ]
  },
  {
   "attachments": {},
   "cell_type": "markdown",
   "id": "alternate-bloom",
   "metadata": {},
   "source": [
    "# Making predictions"
   ]
  },
  {
   "cell_type": "code",
   "execution_count": 29,
   "id": "understanding-hartford",
   "metadata": {},
   "outputs": [
    {
     "name": "stdout",
     "output_type": "stream",
     "text": [
      "Image no. =  639\n",
      "1/1 [==============================] - 0s 38ms/step\n",
      "Our model says it is : 11\n",
      "It is found to be :  B\n"
     ]
    },
    {
     "data": {
      "image/png": "[encoded data removed]",
      "text/plain": [
       "<Figure size 640x480 with 1 Axes>"
      ]
     },
     "metadata": {},
     "output_type": "display_data"
    }
   ],
   "source": [
    "# idx2 = random.randint(0, len(data))\n",
    "# plt.imshow(data[idx2, 0, :])\n",
    "# plt.show()\n",
    "idx = random.randint(0, len(data))\n",
    "print(\"Image no. = \",idx)\n",
    "plt.imshow(data[idx][0]) #cmap = 'gray')\n",
    "# print(\"Image label accd to dict: \", y[idx])\n",
    "\n",
    "y_pred = model.predict(data[idx][0].reshape(1, img_size, img_size, 1))\n",
    "prediction = np.argmax(y_pred)\n",
    "\n",
    "print(\"Our model says it is :\", prediction)\n",
    "\n",
    "print(\"It is found to be : \", list(class_dict.keys())\n",
    "      [list(class_dict.values()).index(prediction)])\n",
    "    \n",
    "# print(y_pred)"
   ]
  },
  {
   "cell_type": "code",
   "execution_count": 23,
   "id": "colonial-genealogy",
   "metadata": {},
   "outputs": [
    {
     "name": "stdout",
     "output_type": "stream",
     "text": [
      "1/1 [==============================] - 0s 33ms/step\n",
      "Our model says it is a : 55\n",
      "It is estimated to be :  t\n",
      "Screenshot 2022-10-28 at 2.10.24 AM.png\n"
     ]
    },
    {
     "data": {
      "image/png": "[encoded data removed]",
      "text/plain": [
       "<Figure size 640x480 with 1 Axes>"
      ]
     },
     "metadata": {},
     "output_type": "display_data"
    }
   ],
   "source": [
    "testing_data = os.listdir('test_folder')\n",
    "r = random.randint(0, len(testing_data)-1)\n",
    "image = testing_data[r]\n",
    "path = f\"/Users/vanviet/Documents/HandwrittenTextRecognition/test_folder/{image}\"\n",
    "# path = r\"/Users/ratanprakash/Documents/tf_project/test_folder/rr.png\"\n",
    "\n",
    "test_image = cv2.imread(path, cv2.IMREAD_GRAYSCALE)\n",
    "test_image = cv2.resize(test_image, (img_size, img_size))\n",
    "# test_image = np.invert(test_image)\n",
    "test_image = test_image/255.0\n",
    "contrast_test_image = np.round_(test_image)\n",
    "test_image = contrast_test_image\n",
    "plt.imshow(test_image) #cmap='gray')\n",
    "\n",
    "test_image = test_image.reshape(1, img_size, img_size, 1)\n",
    "y_pred = model.predict(test_image)\n",
    "prediction = np.argmax(y_pred)\n",
    "\n",
    "print(\"Our model says it is a :\", prediction)\n",
    "print(\"It is estimated to be : \", list(class_dict.keys())\n",
    "      [list(class_dict.values()).index(prediction)])\n",
    "print(image)"
   ]
  },
  {
   "cell_type": "code",
   "execution_count": null,
   "id": "df9bcc77",
   "metadata": {},
   "outputs": [],
   "source": [
    "\n",
    "\n",
    "\n",
    "\n",
    "\n",
    "\n",
    "\n",
    "\n",
    "\n",
    "\n",
    "\n",
    "\n",
    "\n",
    "\n",
    "\n",
    "\n",
    "\n",
    "\n",
    "\n",
    "\n",
    "\n",
    "\n",
    "\n",
    "\n",
    "\n",
    "\n",
    "\n",
    "\n"
   ]
  }
 ],
 "metadata": {
  "kernelspec": {
   "display_name": "Python 3 (ipykernel)",
   "language": "python",
   "name": "python3"
  },
  "language_info": {
   "codemirror_mode": {
    "name": "ipython",
    "version": 3
   },
   "file_extension": ".py",
   "mimetype": "text/x-python",
   "name": "python",
   "nbconvert_exporter": "python",
   "pygments_lexer": "ipython3",
   "version": "3.9.7"
  }
 },
 "nbformat": 4,
 "nbformat_minor": 5
}
